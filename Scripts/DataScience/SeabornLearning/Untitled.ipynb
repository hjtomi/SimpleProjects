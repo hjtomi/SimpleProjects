{
 "cells": [
  {
   "cell_type": "code",
   "execution_count": 1,
   "id": "73140e7f-9f1d-4df3-8f28-8748484d6c5a",
   "metadata": {
    "tags": []
   },
   "outputs": [],
   "source": [
    "import seaborn as sns"
   ]
  },
  {
   "cell_type": "code",
   "execution_count": null,
   "id": "a8fa99c7-6a6f-4f09-878a-50d7c8c127f9",
   "metadata": {},
   "outputs": [],
   "source": [
    "sns.histplot()"
   ]
  }
 ],
 "metadata": {
  "kernelspec": {
   "display_name": "Python 3 (ipykernel)",
   "language": "python",
   "name": "python3"
  },
  "language_info": {
   "codemirror_mode": {
    "name": "ipython",
    "version": 3
   },
   "file_extension": ".py",
   "mimetype": "text/x-python",
   "name": "python",
   "nbconvert_exporter": "python",
   "pygments_lexer": "ipython3",
   "version": "3.10.6"
  }
 },
 "nbformat": 4,
 "nbformat_minor": 5
}
