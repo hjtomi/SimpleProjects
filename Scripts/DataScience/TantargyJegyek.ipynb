{
 "cells": [
  {
   "cell_type": "code",
   "execution_count": 53,
   "id": "8433c746-110f-4282-a887-ba81ec99d25e",
   "metadata": {
    "tags": []
   },
   "outputs": [],
   "source": [
    "import pandas as pd\n",
    "import matplotlib.pyplot as plt"
   ]
  },
  {
   "cell_type": "code",
   "execution_count": 54,
   "id": "0c3f5594-b055-4754-997b-83f6d9ec1871",
   "metadata": {
    "tags": []
   },
   "outputs": [
    {
     "data": {
      "text/html": [
       "<div>\n",
       "<style scoped>\n",
       "    .dataframe tbody tr th:only-of-type {\n",
       "        vertical-align: middle;\n",
       "    }\n",
       "\n",
       "    .dataframe tbody tr th {\n",
       "        vertical-align: top;\n",
       "    }\n",
       "\n",
       "    .dataframe thead th {\n",
       "        text-align: right;\n",
       "    }\n",
       "</style>\n",
       "<table border=\"1\" class=\"dataframe\">\n",
       "  <thead>\n",
       "    <tr style=\"text-align: right;\">\n",
       "      <th></th>\n",
       "      <th>nev</th>\n",
       "      <th>info</th>\n",
       "      <th>irodalom</th>\n",
       "      <th>nyelvtan</th>\n",
       "      <th>matek</th>\n",
       "      <th>tori</th>\n",
       "      <th>hittan</th>\n",
       "      <th>fizika</th>\n",
       "      <th>kemia</th>\n",
       "      <th>biosz</th>\n",
       "      <th>foci</th>\n",
       "      <th>1.nyelv</th>\n",
       "      <th>2.nyelv</th>\n",
       "      <th>enek</th>\n",
       "      <th>rajz</th>\n",
       "      <th>tesi</th>\n",
       "    </tr>\n",
       "  </thead>\n",
       "  <tbody>\n",
       "    <tr>\n",
       "      <th>0</th>\n",
       "      <td>Hegymegi - Jako Tamas</td>\n",
       "      <td>5.0</td>\n",
       "      <td>2.0</td>\n",
       "      <td>4.0</td>\n",
       "      <td>5.0</td>\n",
       "      <td>3.4</td>\n",
       "      <td>5.0</td>\n",
       "      <td>3.5</td>\n",
       "      <td>3.75</td>\n",
       "      <td>2.25</td>\n",
       "      <td>4.2</td>\n",
       "      <td>4.89</td>\n",
       "      <td>4.0</td>\n",
       "      <td>5.0</td>\n",
       "      <td>3.33</td>\n",
       "      <td>5.0</td>\n",
       "    </tr>\n",
       "    <tr>\n",
       "      <th>2</th>\n",
       "      <td>Jano Tamas</td>\n",
       "      <td>4.0</td>\n",
       "      <td>3.0</td>\n",
       "      <td>3.0</td>\n",
       "      <td>1.0</td>\n",
       "      <td>3.0</td>\n",
       "      <td>3.0</td>\n",
       "      <td>1.0</td>\n",
       "      <td>3.00</td>\n",
       "      <td>2.00</td>\n",
       "      <td>4.0</td>\n",
       "      <td>5.00</td>\n",
       "      <td>3.0</td>\n",
       "      <td>4.0</td>\n",
       "      <td>2.00</td>\n",
       "      <td>5.0</td>\n",
       "    </tr>\n",
       "  </tbody>\n",
       "</table>\n",
       "</div>"
      ],
      "text/plain": [
       "                     nev  info  irodalom  nyelvtan  matek  tori  hittan  \\\n",
       "0  Hegymegi - Jako Tamas   5.0       2.0       4.0    5.0   3.4     5.0   \n",
       "2             Jano Tamas   4.0       3.0       3.0    1.0   3.0     3.0   \n",
       "\n",
       "   fizika  kemia  biosz  foci  1.nyelv  2.nyelv  enek  rajz  tesi  \n",
       "0     3.5   3.75   2.25   4.2     4.89      4.0   5.0  3.33   5.0  \n",
       "2     1.0   3.00   2.00   4.0     5.00      3.0   4.0  2.00   5.0  "
      ]
     },
     "execution_count": 54,
     "metadata": {},
     "output_type": "execute_result"
    }
   ],
   "source": [
    "df = pd.read_excel('TantargyJegyek.xlsx')\n",
    "df.dropna(inplace=True)\n",
    "df"
   ]
  },
  {
   "cell_type": "code",
   "execution_count": 68,
   "id": "03702701-d14c-4e2b-b37c-829dccd4c466",
   "metadata": {
    "tags": []
   },
   "outputs": [],
   "source": [
    "grades = df[df['nev'] == 'Hegymegi - Jako Tamas'].values[0,1:]"
   ]
  },
  {
   "cell_type": "code",
   "execution_count": 81,
   "id": "3ee8e6cf-f3d8-4ad4-96aa-b75df8430cc7",
   "metadata": {
    "tags": []
   },
   "outputs": [
    {
     "data": {
      "image/png": "[encoded data removed]",
      "text/plain": [
       "<Figure size 640x480 with 1 Axes>"
      ]
     },
     "metadata": {},
     "output_type": "display_data"
    }
   ],
   "source": [
    "plt.xticks(fontsize=7, rotation=45)\n",
    "plt.yticks(range(6))\n",
    "plt.bar(df.columns[1:], grades)\n",
    "plt.show()"
   ]
  },
  {
   "cell_type": "code",
   "execution_count": 82,
   "id": "7a173c92-e9f5-46a8-838b-53d730b6da4b",
   "metadata": {
    "tags": []
   },
   "outputs": [
    {
     "data": {
      "text/plain": [
       "module"
      ]
     },
     "execution_count": 82,
     "metadata": {},
     "output_type": "execute_result"
    }
   ],
   "source": [
    "type(plt)"
   ]
  },
  {
   "cell_type": "code",
   "execution_count": null,
   "id": "07cfb056-be68-4088-bd87-88d7e76f3c69",
   "metadata": {},
   "outputs": [],
   "source": []
  }
 ],
 "metadata": {
  "kernelspec": {
   "display_name": "Python 3 (ipykernel)",
   "language": "python",
   "name": "python3"
  },
  "language_info": {
   "codemirror_mode": {
    "name": "ipython",
    "version": 3
   },
   "file_extension": ".py",
   "mimetype": "text/x-python",
   "name": "python",
   "nbconvert_exporter": "python",
   "pygments_lexer": "ipython3",
   "version": "3.11.2"
  }
 },
 "nbformat": 4,
 "nbformat_minor": 5
}
